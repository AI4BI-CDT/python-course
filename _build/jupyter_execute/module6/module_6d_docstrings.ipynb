{
 "cells": [
  {
   "cell_type": "code",
   "execution_count": 1,
   "id": "66fb30c2",
   "metadata": {
    "tags": [
     "hide-input",
     "hide-output"
    ]
   },
   "outputs": [
    {
     "ename": "ModuleNotFoundError",
     "evalue": "No module named 'setup_code'",
     "output_type": "error",
     "traceback": [
      "\u001b[31m---------------------------------------------------------------------------\u001b[39m",
      "\u001b[31mModuleNotFoundError\u001b[39m                       Traceback (most recent call last)",
      "\u001b[36mCell\u001b[39m\u001b[36m \u001b[39m\u001b[32mIn[1]\u001b[39m\u001b[32m, line 4\u001b[39m\n\u001b[32m      2\u001b[39m \u001b[38;5;28;01mimport\u001b[39;00m\u001b[38;5;250m \u001b[39m\u001b[34;01mos\u001b[39;00m\n\u001b[32m      3\u001b[39m sys.path.insert(\u001b[32m0\u001b[39m, os.path.abspath(os.path.join(os.getcwd(), \u001b[33m'\u001b[39m\u001b[33m..\u001b[39m\u001b[33m'\u001b[39m, \u001b[33m'\u001b[39m\u001b[33mshared\u001b[39m\u001b[33m'\u001b[39m)))\n\u001b[32m----> \u001b[39m\u001b[32m4\u001b[39m \u001b[38;5;28;01mimport\u001b[39;00m\u001b[38;5;250m \u001b[39m\u001b[34;01msetup_code\u001b[39;00m\n\u001b[32m      5\u001b[39m stroke_data = setup_code.stroke_data\n",
      "\u001b[31mModuleNotFoundError\u001b[39m: No module named 'setup_code'"
     ]
    }
   ],
   "source": [
    "import sys\n",
    "import os\n",
    "sys.path.insert(0, os.path.abspath(os.path.join(os.getcwd(), '..', 'shared')))\n",
    "import setup_code\n",
    "stroke_data = setup_code.stroke_data"
   ]
  },
  {
   "cell_type": "markdown",
   "id": "af50da5e",
   "metadata": {},
   "source": [
    "# Module 6d: Docstrings\n",
    "\n",
    "<div class=\"alert alert-block alert-success\">\n",
    "<b>Section Objectives:</b><br> \n",
    "- Write and utilize docstrings to document functions.\n",
    "</div>\n",
    "\n",
    "\n",
    "\n",
    "## Docstrings\n",
    "\n",
    "Let's go back to the `count_stroke_patients()` function from the first section of this module. Notice how we had a multi-line string in triple quotes, also called documentation string or **docstring** for short. The docstring links explanatory documentation to Python objects such as functions, modules, and classes. It explains the purpose of the function, as well as the parameters required,and the output/return we get. \n",
    "It is incredibly useful for others (as well as future you!) to develop this good practice. \n",
    "\n",
    "You can access an object's documentation through the `__doc__` method or `help()` function."
   ]
  },
  {
   "cell_type": "code",
   "execution_count": null,
   "id": "4a788051",
   "metadata": {},
   "outputs": [],
   "source": [
    "def count_stroke_patients(df):\n",
    "    \"\"\"\n",
    "    Return the number of patients in the dataset who had a stroke.\n",
    "\n",
    "    Parameters\n",
    "    ----------\n",
    "    df : pandas.DataFrame\n",
    "        The dataset containing patient information. Must include a 'stroke' column\n",
    "        with binary values (e.g., 0 = no stroke, 1 = stroke).\n",
    "\n",
    "    Returns\n",
    "    -------\n",
    "    int\n",
    "        The number of patients who had a stroke.\n",
    "    \"\"\"\n",
    "    stroke_count = df['stroke'].sum()\n",
    "    return stroke_count"
   ]
  },
  {
   "cell_type": "code",
   "execution_count": null,
   "id": "0763ebfd",
   "metadata": {},
   "outputs": [],
   "source": [
    "print(\"Using __doc__:\")\n",
    "print(count_stroke_patients.__doc__)\n",
    "\n",
    "print(\"Using help:\")\n",
    "help(count_stroke_patients)"
   ]
  },
  {
   "cell_type": "markdown",
   "id": "add0bce3",
   "metadata": {},
   "source": [
    "For the sake of standardization, there a few conventions to follow when writing a docstring, mainly based on {cite}`pep_257`  and common community practices (see: {cite}`python_docstrings`):\n"
   ]
  },
  {
   "cell_type": "markdown",
   "id": "891cdd02",
   "metadata": {},
   "source": [
    "1) Basic Syntax Rules\n",
    "- Use \"\"\"triple double quotes\"\"\" even for one-liners.\n",
    "\n",
    "- Place the docstring immediately after the def or class line.\n",
    "\n",
    "- For raw strings (e.g., with backslashes), use r\"\"\"insert raw docstring here\"\"\".\n",
    "- Stick to one format, for example the Numpydoc Style used in the `count_stroke_patients()` function.\n"
   ]
  },
  {
   "cell_type": "markdown",
   "id": "7bf478f2",
   "metadata": {},
   "source": [
    "2) One-line Docstrings\n",
    "- Used for simple functions or when a brief summary suffices.\n",
    "\n",
    "- Format:\n",
    "\n",
    "    - Triple quotes on a single line.\n",
    "\n",
    "    - No blank line after.\n",
    "\n",
    "    - Imperative mood: \"Return...\" not \"Returns...\"\n",
    "\n",
    "    - End with a period.\n",
    "\n",
    "    Example:\n",
    "    ```{code-cell} python\n",
    "    :tags: [remove-output]\n",
    "    def func_example1(df):\n",
    "    \"\"\"Return the number of patients with stroke.\"\"\"\n",
    "    ```\n"
   ]
  },
  {
   "cell_type": "markdown",
   "id": "a2b4663f",
   "metadata": {},
   "source": [
    "3) Multi-line Docstrings\n",
    "\n",
    "- Format:\n",
    "\n",
    "    - First line: summary, fits on one line.\n",
    "\n",
    "    - Blank line after summary.\n",
    "\n",
    "    - Optional: detailed description (behavior, arguments, exceptions, return).\n",
    "\n",
    "    - Closing \"\"\" on its own line if the docstring spans multiple lines.\n",
    "\n",
    "    Example: see example function in building blocks section."
   ]
  },
  {
   "cell_type": "markdown",
   "id": "7e6dd759",
   "metadata": {},
   "source": [
    "References:\n",
    "```{bibliography}"
   ]
  }
 ],
 "metadata": {
  "jupytext": {
   "default_lexer": "python"
  },
  "kernelspec": {
   "display_name": "Python 3",
   "language": "python",
   "name": "python3"
  },
  "language_info": {
   "codemirror_mode": {
    "name": "ipython",
    "version": 3
   },
   "file_extension": ".py",
   "mimetype": "text/x-python",
   "name": "python",
   "nbconvert_exporter": "python",
   "pygments_lexer": "ipython3",
   "version": "3.13.2"
  }
 },
 "nbformat": 4,
 "nbformat_minor": 5
}